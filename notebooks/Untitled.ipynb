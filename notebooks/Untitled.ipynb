{
 "cells": [
  {
   "cell_type": "code",
   "execution_count": 6,
   "id": "6d743b02",
   "metadata": {},
   "outputs": [
    {
     "name": "stdout",
     "output_type": "stream",
     "text": [
      "d 1\n",
      "d 2\n",
      "d 3\n",
      "d 4\n",
      "d 5\n",
      "d 4\n",
      "d 5\n",
      "d 3\n",
      "d 4\n",
      "d 5\n",
      "d 4\n",
      "d 5\n"
     ]
    },
    {
     "data": {
      "text/plain": [
       "[(1, 1), (2, 8), (5, 1), (5, 5), (5, 10), (8, 8)]"
      ]
     },
     "execution_count": 6,
     "metadata": {},
     "output_type": "execute_result"
    }
   ],
   "source": [
    "from copy import copy\n",
    "\n",
    "\n",
    "DOMINATED = 0\n",
    "NON_DOMINATED = 1\n",
    "\n",
    "\n",
    "def is_dominant(x, y):\n",
    "    return x[0] <= y[0] and x[1] <= y[1]\n",
    "\n",
    "def get_pareto(values):\n",
    "    all_values = copy(values)\n",
    "    for i in range(len(all_values)):\n",
    "        for j in range(i + 1, len(all_values)):\n",
    "            if is_dominant(values[i], values[j]):\n",
    "                print('d', j)\n",
    "#                 del all_values[j]\n",
    "    return all_values\n",
    "            \n",
    "            \n",
    "\n",
    "values = [(1, 1), (2, 8), (5, 1), (5, 5), (5, 10), (8, 8)]\n",
    "\n",
    "get_pareto(values)"
   ]
  }
 ],
 "metadata": {
  "kernelspec": {
   "display_name": "Python 3 (ipykernel)",
   "language": "python",
   "name": "python3"
  },
  "language_info": {
   "codemirror_mode": {
    "name": "ipython",
    "version": 3
   },
   "file_extension": ".py",
   "mimetype": "text/x-python",
   "name": "python",
   "nbconvert_exporter": "python",
   "pygments_lexer": "ipython3",
   "version": "3.10.4"
  }
 },
 "nbformat": 4,
 "nbformat_minor": 5
}
